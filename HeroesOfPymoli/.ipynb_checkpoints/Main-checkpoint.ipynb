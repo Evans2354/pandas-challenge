{
 "cells": [
  {
   "cell_type": "code",
   "execution_count": null,
   "metadata": {},
   "outputs": [],
   "source": [
    "import pandas as pd\n"
   ]
  },
  {
   "cell_type": "code",
   "execution_count": null,
   "metadata": {},
   "outputs": [],
   "source": [
    "Load_file = \"purchase_data.csv\"\n",
    "purchase_data = pd.read_csv(Load_file)\n",
    "purchase_data.head()"
   ]
  },
  {
   "cell_type": "code",
   "execution_count": null,
   "metadata": {},
   "outputs": [],
   "source": [
    "# Player count \n",
    "Num_of_players = pd.DataFrame([len(purchase_data[\"SN\"].unique())],columns=[\"Total Players\"])\n",
    "Max_age = purchase_data[\"Age\"].max()\n",
    "Max_age"
   ]
  },
  {
   "cell_type": "code",
   "execution_count": null,
   "metadata": {},
   "outputs": [],
   "source": [
    "Unique_tiems=len(purchase_data[\"Item ID\"].unique())\n",
    "Avg_purchase_price= '${:.2f}'.format((purchase_data[\"Price\"].mean()))\n",
    "Total_purchases = len(purchase_data[\"Purchase ID\"])\n",
    "Total_revenue ='${:,}'.format(purchase_data[\"Price\"].sum())\n",
    "Summary_table_1 =pd.DataFrame({\"Number of Unique Items\":[Unique_tiems]\n",
    "                             ,\"Average Price\":[Avg_purchase_price]\n",
    "                             ,\"Number of Purchases\":[Total_purchases]\n",
    "                             ,\"Total Revenue\":[Total_revenue]})\n",
    "Summary_table_1"
   ]
  },
  {
   "cell_type": "code",
   "execution_count": null,
   "metadata": {},
   "outputs": [],
   "source": [
    "M_grouped_data = purchase_data.loc[purchase_data[\"Gender\"]==\"Male\",:].groupby([\"Gender\",\"SN\"])\n",
    "Count_MP= M_grouped_data[\"Gender\"].unique().count()\n",
    "F_grouped_data = purchase_data.loc[purchase_data[\"Gender\"]==\"Female\",:].groupby([\"Gender\",\"SN\"])\n",
    "Count_FP= F_grouped_data[\"Gender\"].unique().count()\n",
    "O_grouped_data = purchase_data.loc[purchase_data[\"Gender\"]==\"Other / Non-Disclosed\",:].groupby([\"Gender\",\"SN\"])\n",
    "Count_OP= O_grouped_data[\"Gender\"].unique().count()\n",
    "\n",
    "Total_P =Count_MP+Count_FP+Count_OP\n",
    "\n",
    "Male_Percent='{:.2%}'.format((Count_MP/Total_P))\n",
    "Female_Percent= '{:.2%}'.format((Count_FP/Total_P))\n",
    "Other_Percent= '{:.2%}'.format((Count_OP/Total_P))\n",
    "\n",
    "summary_table_2 =pd.DataFrame({\n",
    "                \"Total Count\":{\"Male\":Count_MP,\"Female\":Count_FP,\"Other / Non-Disclosed\":Count_OP},                \n",
    "                \"Percentage of Players\":{\"Male\":Male_Percent,\"Female\":Female_Percent,\"Other / Non-Disclosed\":Other_Percent}})\n",
    "summary_table_2"
   ]
  },
  {
   "cell_type": "code",
   "execution_count": null,
   "metadata": {},
   "outputs": [],
   "source": [
    "Male_P_count=purchase_data[\"Gender\"].loc[purchase_data[\"Gender\"]==\"Male\"].count()\n",
    "Female_P_count=purchase_data[\"Gender\"].loc[purchase_data[\"Gender\"]==\"Female\"].count()\n",
    "Other_P_count=purchase_data[\"Gender\"].loc[purchase_data[\"Gender\"]==\"Other / Non-Disclosed\"].count()\n",
    "\n",
    "Male_avg_price='${:.2f}'.format(purchase_data[\"Price\"].loc[purchase_data[\"Gender\"]==\"Male\"].mean())\n",
    "Female_avg_price='${:.2f}'.format(purchase_data[\"Price\"].loc[purchase_data[\"Gender\"]==\"Female\"].mean())\n",
    "Other_avg_price='${:.2f}'.format(purchase_data[\"Price\"].loc[purchase_data[\"Gender\"]==\"Other / Non-Disclosed\"].mean())\n",
    "\n",
    "Total_M_purchase =purchase_data[\"Price\"].loc[purchase_data[\"Gender\"]==\"Male\"].sum()\n",
    "Total_M_purchase_f='${:,.2f}'.format(Total_M_purchase)\n",
    "Total_F_purchase =purchase_data[\"Price\"].loc[purchase_data[\"Gender\"]==\"Female\"].sum()\n",
    "Total_F_purchase_f='${:.2f}'.format(Total_F_purchase)\n",
    "Total_O_purchase =purchase_data[\"Price\"].loc[purchase_data[\"Gender\"]==\"Other / Non-Disclosed\"].sum()\n",
    "Total_O_purchase_f='${:.2f}'.format(Total_O_purchase)\n",
    "\n",
    "M_Avg_purchase_Total ='${:.2f}'.format(Total_M_purchase/Count_MP)\n",
    "F_Avg_purchase_Total ='${:.2f}'.format(Total_F_purchase/Count_FP)\n",
    "O_Avg_purchase_Total ='${:.2f}'.format(Total_O_purchase/Count_OP)\n",
    "\n",
    "summary_table_3 =pd.DataFrame({\n",
    "    \"Purchase Count\":{\"Gender\":\" \",\"Male\":Male_P_count,\"Female\":Female_P_count,\"Other / Non-Disclosed\":Other_P_count},\n",
    "    \"Average Purchase Price\":{\"Gender\":\" \",\"Male\":Male_avg_price,\"Female\":Female_avg_price,\"Other / Non-Disclosed\":Other_avg_price},\n",
    "    \"Total Purchase Value\":{\"Gender\":\" \",\"Male\":Total_M_purchase_f,\"Female\":Total_F_purchase_f,\"Other / Non-Disclosed\":Total_O_purchase_f},\n",
    "    \"Avg Total Purchase per Person\":{\"Gender\": \" \",\"Male\":M_Avg_purchase_Total,\"Female\":F_Avg_purchase_Total,\"Other / Non-Disclosed\":O_Avg_purchase_Total}\n",
    "    })\n",
    "summary_table_3"
   ]
  },
  {
   "cell_type": "code",
   "execution_count": null,
   "metadata": {},
   "outputs": [],
   "source": [
    "bins = [0,9,14,19,24,29,34,39,50,]\n",
    "group_labels=[\"<10\", \"10-14\", \"15-19\",\"20-24\",\"25-29\",\"30-34\",\"35-39\",\"40+\"]\n",
    "#Age_binning = purchase_data[[\"Purchase ID\",\"Price\",\"Age\"]]\n",
    "#Age_binning[\"Age Category\"] = pd.cut(purchase_data[\"Age\"], bins, labels=group_labels)\n",
    "purchase_data[\"Age Category\"]=pd.cut(purchase_data[\"Age\"], bins, labels=group_labels)"
   ]
  },
  {
   "cell_type": "code",
   "execution_count": null,
   "metadata": {},
   "outputs": [],
   "source": [
    "#purchase count\n",
    "\n",
    "#Age_group_count= purchase_data.loc[]\n",
    "purchase_data[\"Age Category\"]= purchase_data[\"Age Category\"].astype(object)\n",
    "\n",
    "Age_group_9 = purchase_data.loc[purchase_data[\"Age Category\"] == \"<10\", :]\n",
    "Age_group_9 =Age_group_9[\"SN\"].unique()\n",
    "Age_group_10 = purchase_data.loc[purchase_data[\"Age Category\"]==\"10-14\", :]\n",
    "Age_group_10 =Age_group_10[\"SN\"].unique()\n",
    "Age_group_15 = purchase_data.loc[purchase_data[\"Age Category\"]==\"15-19\", :]\n",
    "Age_group_15 =Age_group_15[\"SN\"].unique()\n",
    "Age_group_20 = purchase_data.loc[purchase_data[\"Age Category\"]==\"20-24\", :]\n",
    "Age_group_20 =Age_group_20[\"SN\"].unique()\n",
    "Age_group_25 = purchase_data.loc[purchase_data[\"Age Category\"]==\"25-29\", :]\n",
    "Age_group_25 =Age_group_25[\"SN\"].unique()\n",
    "Age_group_30 = purchase_data.loc[purchase_data[\"Age Category\"]==\"30-34\", :]\n",
    "Age_group_30 =Age_group_30[\"SN\"].unique()\n",
    "Age_group_35 = purchase_data.loc[purchase_data[\"Age Category\"]==\"35-39\", :]\n",
    "Age_group_35 =Age_group_35[\"SN\"].unique()\n",
    "Age_group_40 = purchase_data.loc[purchase_data[\"Age Category\"]==\"40+\", :]\n",
    "Age_group_40 =Age_group_40[\"SN\"].unique()\n",
    "\n",
    "Purchase_count_list =[len(Age_group_9),len(Age_group_10),len(Age_group_15),len(Age_group_20),len(Age_group_25),len(Age_group_30)\n",
    "                     ,len(Age_group_35),len(Age_group_40)]\n",
    "\n",
    "Total =0\n",
    "for count in Purchase_count_list:\n",
    "    Total +=count\n",
    "\n",
    "Percent_Purchase_count=[]\n",
    "element=0.0\n",
    "for count in Purchase_count_list:\n",
    "    element =\"{0:.2%}\".format(count/Total)\n",
    "    Percent_Purchase_count.append(element)\n",
    "    \n",
    "Summary = {\"Total Count\":Purchase_count_list,\n",
    "      \"Percentage of Players\":Percent_Purchase_count}\n",
    "Summary_table_4 =pd.DataFrame(Summary)\n",
    "Summary_table_4"
   ]
  },
  {
   "cell_type": "code",
   "execution_count": null,
   "metadata": {},
   "outputs": [],
   "source": [
    "Purchase_Analysis=purchase_data.groupby(\"Age Category\")\n",
    "\n",
    "Purchase_count=pd.DataFrame(Purchase_Analysis[\"Age\"].count())\n",
    "Purchase_count_list=[23,28,136,365,101,73,41,13]\n",
    "\n",
    "#Average purchase Price\n",
    "Avg_Purchase=pd.DataFrame(Purchase_Analysis[\"Price\"].mean()).style.format('${0:,.2f}')\n",
    "Avg_Purchase_list=[3.353478,2.956429,3.035956,3.052219,2.90099,2.931507,3.601707,2.941538]\n",
    "formatted_avg_purchase = ['${:,.2f}'.format(price) for price in Avg_Purchase_list]\n",
    "\n",
    "#total purchase price per group\n",
    "Total_Purchase_value=pd.DataFrame(Purchase_Analysis[\"Price\"].sum())\n",
    "Total_Purchase=[77.13,82.78,412.89,1114.06,293,214,147.67,38.24]\n",
    "formattedTotal_Purchase=['${:,.2f}'.format(tprice) for tprice in Total_Purchase]\n",
    "\n",
    "#previously found Unique user count per age group\n",
    "Purchase_count_list =[len(Age_group_9),len(Age_group_10),len(Age_group_15),len(Age_group_20),len(Age_group_25),len(Age_group_30)\n",
    "                     ,len(Age_group_35),len(Age_group_40)]\n",
    "#convert to interger list for calculating user avg total purchase per person\n",
    "Total_users_per_group = [17, 22, 107, 258, 77, 52, 31, 12]\n",
    "\n",
    "Avg_Total_purchase_Per_user =[]\n",
    "for i in range(len(Total_Purchase)):\n",
    "    Total_avg_per_user= '${:,.2f}'.format(Total_Purchase[i]/Total_users_per_group[i])\n",
    "    Avg_Total_purchase_Per_user.append(Total_avg_per_user)\n",
    "\n",
    "Summary_table_5 =pd.DataFrame({\"Age Ranges\":group_labels\n",
    "      ,\"Purchase Count\":Purchase_count_list\n",
    "      ,\"Average Purchase Price\":formatted_avg_purchase\n",
    "      ,\"Total Purchase Value\":formattedTotal_Purchase\n",
    "      ,\"Avg Total Purchase per Person\":Avg_Total_purchase_Per_user\n",
    "                 })\n",
    "\n",
    "Summary_table_5.set_index(\"Age Ranges\", inplace= True)\n",
    "Summary_table_5"
   ]
  },
  {
   "cell_type": "code",
   "execution_count": null,
   "metadata": {
    "scrolled": false
   },
   "outputs": [],
   "source": [
    "#top spenders\n",
    "#Purchase Count\n",
    "#Average Purchase Price\n",
    "#Total Purchase Value\n",
    "Users=purchase_data[\"SN\"]\n",
    "p_item_price =purchase_data[\"Price\"]\n",
    "\n",
    "topspender_df=pd.DataFrame({\"SN\":Users, \"Price\":p_item_price})\n",
    "grouped_TS_df=topspender_df.groupby([\"SN\"])\n",
    "\n",
    "purchase_count_user = grouped_TS_df[\"SN\"].count()\n",
    "Total_puser_value=grouped_TS_df[\"Price\"].sum()\n",
    "Avg_purchase_price =[]\n",
    "avg_value=0.0\n",
    "tracker=0\n",
    "for i in range(len(purchase_count_user)):\n",
    "    avg_value='${:.2f}'.format(Total_puser_value[i]/purchase_count_user[i])\n",
    "    Avg_purchase_price.append(avg_value)\n",
    "    if tracker > 1000:\n",
    "        break\n",
    "    tracker+=1\n",
    "summary_table_6 = pd.DataFrame({\"Purchase Count\":purchase_count_user\n",
    "                                ,\"Average Purchase Price\":Avg_purchase_price\n",
    "                                ,\"Total Purchase Value\":Total_puser_value}) \n",
    "\n",
    "summary_table_6=summary_table_6.sort_values(\"Total Purchase Value\",ascending =False)\n",
    "summary_table_6.head(5)"
   ]
  },
  {
   "cell_type": "code",
   "execution_count": null,
   "metadata": {},
   "outputs": [],
   "source": [
    "\n"
   ]
  },
  {
   "cell_type": "code",
   "execution_count": null,
   "metadata": {},
   "outputs": [],
   "source": [
    "\n",
    "#Most Popular Items\n",
    "Item_ID = purchase_data[\"Item ID\"]\n",
    "Item_Name =purchase_data[\"Item Name\"]\n",
    "iPrice =purchase_data[\"Price\"]\n",
    "\n",
    "#Format statement below source link\n",
    "#https://stackoverflow.com/questions/20937538/how-to-display-pandas-dataframe-of-floats-using-a-format-string-for-columns\n",
    "pd.options.display.float_format = '${:,.2f}'.format\n",
    "\n",
    "Popular_item_df =pd.DataFrame({\"Item ID\":Item_ID,\"Item Name\":Item_Name,\"Price\":iPrice})\n",
    "Grouped_item_df =Popular_item_df.groupby([\"Item ID\",\"Item Name\"])\n",
    "\n",
    "item_purchase_count=Grouped_item_df[\"Item ID\"].count()\n",
    "item_price =Grouped_item_df[\"Price\"].unique()\n",
    "total_item_purchase= Grouped_item_df[\"Price\"].sum()\n",
    "\n",
    "summary_table_7 =pd.DataFrame({\"Purchase Count\":item_purchase_count,\"Item Price\":item_price, \"Total Purchase Value\":total_item_purchase} )\n",
    "summary_table_7['Item Price'] = summary_table_7['Item Price'].str[0]\n",
    "summary_table_7 =summary_table_7.sort_values(\"Purchase Count\",ascending=False) \n",
    "summary_table_7.head(5) "
   ]
  },
  {
   "cell_type": "code",
   "execution_count": null,
   "metadata": {},
   "outputs": [],
   "source": [
    "#Most Profitable Items\n",
    "summary_table_8 =summary_table_7.sort_values(\"Total Purchase Value\",ascending=False)\n",
    "summary_table_8.head(5)"
   ]
  },
  {
   "cell_type": "code",
   "execution_count": null,
   "metadata": {},
   "outputs": [],
   "source": []
  }
 ],
 "metadata": {
  "kernelspec": {
   "display_name": "Python [conda env:root] *",
   "language": "python",
   "name": "conda-root-py"
  },
  "language_info": {
   "codemirror_mode": {
    "name": "ipython",
    "version": 3
   },
   "file_extension": ".py",
   "mimetype": "text/x-python",
   "name": "python",
   "nbconvert_exporter": "python",
   "pygments_lexer": "ipython3",
   "version": "3.7.4"
  }
 },
 "nbformat": 4,
 "nbformat_minor": 2
}
